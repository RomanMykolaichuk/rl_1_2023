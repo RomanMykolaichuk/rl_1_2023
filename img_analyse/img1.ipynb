{
 "cells": [
  {
   "cell_type": "code",
   "execution_count": 1,
   "metadata": {},
   "outputs": [
    {
     "name": "stdout",
     "output_type": "stream",
     "text": [
      "Requirement already satisfied: pandas in c:\\users\\mykro\\appdata\\local\\programs\\python\\python311\\lib\\site-packages (2.0.2)\n",
      "Requirement already satisfied: pillow in c:\\users\\mykro\\appdata\\local\\programs\\python\\python311\\lib\\site-packages (10.1.0)\n",
      "Requirement already satisfied: python-dateutil>=2.8.2 in c:\\users\\mykro\\appdata\\roaming\\python\\python311\\site-packages (from pandas) (2.8.2)\n",
      "Requirement already satisfied: pytz>=2020.1 in c:\\users\\mykro\\appdata\\local\\programs\\python\\python311\\lib\\site-packages (from pandas) (2023.3)\n",
      "Requirement already satisfied: tzdata>=2022.1 in c:\\users\\mykro\\appdata\\local\\programs\\python\\python311\\lib\\site-packages (from pandas) (2023.3)\n",
      "Requirement already satisfied: numpy>=1.21.0 in c:\\users\\mykro\\appdata\\local\\programs\\python\\python311\\lib\\site-packages (from pandas) (1.24.3)\n",
      "Requirement already satisfied: six>=1.5 in c:\\users\\mykro\\appdata\\roaming\\python\\python311\\site-packages (from python-dateutil>=2.8.2->pandas) (1.16.0)\n",
      "Note: you may need to restart the kernel to use updated packages.\n"
     ]
    },
    {
     "name": "stderr",
     "output_type": "stream",
     "text": [
      "\n",
      "[notice] A new release of pip available: 22.3.1 -> 23.3.1\n",
      "[notice] To update, run: python.exe -m pip install --upgrade pip\n"
     ]
    }
   ],
   "source": [
    "%pip install pandas pillow"
   ]
  },
  {
   "cell_type": "code",
   "execution_count": 9,
   "metadata": {},
   "outputs": [],
   "source": [
    "\n",
    "import pandas as pd\n",
    "from PIL import Image\n",
    "import numpy as np\n"
   ]
  },
  {
   "cell_type": "code",
   "execution_count": null,
   "metadata": {},
   "outputs": [],
   "source": [
    "\n",
    "# Функція для отримання унікальних кольорів на зображенні\n",
    "def get_unique_colors(img):\n",
    "    colors = img.getcolors(maxcolors=100000) # Збільште maxcolors, якщо зображення має більше кольорів\n",
    "    color_list = [color[1] for color in colors]\n",
    "    return color_list\n",
    "\n",
    "# Шлях до вашого зображення на диску\n",
    "image_path = '../img/output1small.png'\n",
    "\n",
    "# Відкриття зображення\n",
    "img = Image.open(image_path)\n",
    "\n",
    "# Отримання унікальних кольорів\n",
    "unique_colors = get_unique_colors(img)\n",
    "\n",
    "# Створення DataFrame з унікальними кольорами\n",
    "df_colors = pd.DataFrame(unique_colors, columns=['Red', 'Green', 'Blue', 'Alpha'])\n",
    "\n",
    "# Виведення таблиці кольорів\n",
    "df_colors"
   ]
  },
  {
   "cell_type": "code",
   "execution_count": null,
   "metadata": {},
   "outputs": [],
   "source": []
  },
  {
   "cell_type": "code",
   "execution_count": 16,
   "metadata": {},
   "outputs": [
    {
     "data": {
      "text/html": [
       "<div>\n",
       "<style scoped>\n",
       "    .dataframe tbody tr th:only-of-type {\n",
       "        vertical-align: middle;\n",
       "    }\n",
       "\n",
       "    .dataframe tbody tr th {\n",
       "        vertical-align: top;\n",
       "    }\n",
       "\n",
       "    .dataframe thead th {\n",
       "        text-align: right;\n",
       "    }\n",
       "</style>\n",
       "<table border=\"1\" class=\"dataframe\">\n",
       "  <thead>\n",
       "    <tr style=\"text-align: right;\">\n",
       "      <th></th>\n",
       "      <th>Red</th>\n",
       "      <th>Green</th>\n",
       "      <th>Blue</th>\n",
       "      <th>Alpha</th>\n",
       "    </tr>\n",
       "  </thead>\n",
       "  <tbody>\n",
       "    <tr>\n",
       "      <th>0</th>\n",
       "      <td>174</td>\n",
       "      <td>206</td>\n",
       "      <td>144</td>\n",
       "      <td>255</td>\n",
       "    </tr>\n",
       "    <tr>\n",
       "      <th>1</th>\n",
       "      <td>243</td>\n",
       "      <td>242</td>\n",
       "      <td>229</td>\n",
       "      <td>255</td>\n",
       "    </tr>\n",
       "    <tr>\n",
       "      <th>2</th>\n",
       "      <td>143</td>\n",
       "      <td>198</td>\n",
       "      <td>112</td>\n",
       "      <td>255</td>\n",
       "    </tr>\n",
       "    <tr>\n",
       "      <th>3</th>\n",
       "      <td>224</td>\n",
       "      <td>212</td>\n",
       "      <td>193</td>\n",
       "      <td>255</td>\n",
       "    </tr>\n",
       "    <tr>\n",
       "      <th>4</th>\n",
       "      <td>179</td>\n",
       "      <td>207</td>\n",
       "      <td>203</td>\n",
       "      <td>255</td>\n",
       "    </tr>\n",
       "    <tr>\n",
       "      <th>5</th>\n",
       "      <td>205</td>\n",
       "      <td>188</td>\n",
       "      <td>167</td>\n",
       "      <td>255</td>\n",
       "    </tr>\n",
       "    <tr>\n",
       "      <th>6</th>\n",
       "      <td>190</td>\n",
       "      <td>170</td>\n",
       "      <td>131</td>\n",
       "      <td>255</td>\n",
       "    </tr>\n",
       "    <tr>\n",
       "      <th>7</th>\n",
       "      <td>236</td>\n",
       "      <td>162</td>\n",
       "      <td>163</td>\n",
       "      <td>255</td>\n",
       "    </tr>\n",
       "    <tr>\n",
       "      <th>8</th>\n",
       "      <td>173</td>\n",
       "      <td>143</td>\n",
       "      <td>101</td>\n",
       "      <td>255</td>\n",
       "    </tr>\n",
       "    <tr>\n",
       "      <th>9</th>\n",
       "      <td>162</td>\n",
       "      <td>126</td>\n",
       "      <td>57</td>\n",
       "      <td>255</td>\n",
       "    </tr>\n",
       "  </tbody>\n",
       "</table>\n",
       "</div>"
      ],
      "text/plain": [
       "   Red  Green  Blue  Alpha\n",
       "0  174    206   144    255\n",
       "1  243    242   229    255\n",
       "2  143    198   112    255\n",
       "3  224    212   193    255\n",
       "4  179    207   203    255\n",
       "5  205    188   167    255\n",
       "6  190    170   131    255\n",
       "7  236    162   163    255\n",
       "8  173    143   101    255\n",
       "9  162    126    57    255"
      ]
     },
     "execution_count": 16,
     "metadata": {},
     "output_type": "execute_result"
    }
   ],
   "source": [
    "# Функція для визначення, чи є два кольори подібними\n",
    "def are_similar(color1, color2, threshold=50):\n",
    "    return np.sqrt(sum((c1 - c2) ** 2 for c1, c2 in zip(color1, color2))) < threshold\n",
    "\n",
    "# Групування подібних кольорів\n",
    "grouped_colors = []\n",
    "for color in unique_colors:\n",
    "    if not any(are_similar(color, grouped_color, threshold=40) for grouped_color in grouped_colors):\n",
    "        grouped_colors.append(color)\n",
    "\n",
    "# Створення DataFrame з групованими кольорами\n",
    "df_grouped_colors = pd.DataFrame(grouped_colors, columns=['Red', 'Green', 'Blue', 'Alpha'])\n",
    "\n",
    "# Виведення таблиці групованих кольорів\n",
    "df_grouped_colors"
   ]
  }
 ],
 "metadata": {
  "kernelspec": {
   "display_name": "Python 3",
   "language": "python",
   "name": "python3"
  },
  "language_info": {
   "codemirror_mode": {
    "name": "ipython",
    "version": 3
   },
   "file_extension": ".py",
   "mimetype": "text/x-python",
   "name": "python",
   "nbconvert_exporter": "python",
   "pygments_lexer": "ipython3",
   "version": "3.11.3"
  }
 },
 "nbformat": 4,
 "nbformat_minor": 2
}
