{
 "cells": [
  {
   "cell_type": "code",
   "execution_count": 1,
   "metadata": {},
   "outputs": [
    {
     "name": "stderr",
     "output_type": "stream",
     "text": [
      "c:\\Users\\mykro\\AppData\\Local\\Programs\\Python\\Python311\\Lib\\site-packages\\tf_agents\\specs\\array_spec.py:352: RuntimeWarning: invalid value encountered in cast\n",
      "  self._minimum[self._minimum == -np.inf] = low\n",
      "c:\\Users\\mykro\\AppData\\Local\\Programs\\Python\\Python311\\Lib\\site-packages\\tf_agents\\specs\\array_spec.py:353: RuntimeWarning: invalid value encountered in cast\n",
      "  self._minimum[self._minimum == np.inf] = high\n",
      "c:\\Users\\mykro\\AppData\\Local\\Programs\\Python\\Python311\\Lib\\site-packages\\tf_agents\\specs\\array_spec.py:355: RuntimeWarning: invalid value encountered in cast\n",
      "  self._maximum[self._maximum == -np.inf] = low\n",
      "c:\\Users\\mykro\\AppData\\Local\\Programs\\Python\\Python311\\Lib\\site-packages\\tf_agents\\specs\\array_spec.py:356: RuntimeWarning: invalid value encountered in cast\n",
      "  self._maximum[self._maximum == np.inf] = high\n"
     ]
    }
   ],
   "source": [
    "from env1 import CustomEnvironment\n"
   ]
  },
  {
   "cell_type": "code",
   "execution_count": 2,
   "metadata": {},
   "outputs": [],
   "source": [
    "from joblib import load\n",
    "model = load('./img_analyse/model.joblib')"
   ]
  }
 ],
 "metadata": {
  "kernelspec": {
   "display_name": "Python 3",
   "language": "python",
   "name": "python3"
  },
  "language_info": {
   "codemirror_mode": {
    "name": "ipython",
    "version": 3
   },
   "file_extension": ".py",
   "mimetype": "text/x-python",
   "name": "python",
   "nbconvert_exporter": "python",
   "pygments_lexer": "ipython3",
   "version": "3.11.3"
  }
 },
 "nbformat": 4,
 "nbformat_minor": 2
}
